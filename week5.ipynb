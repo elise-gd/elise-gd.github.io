{
  "nbformat": 4,
  "nbformat_minor": 0,
  "metadata": {
    "colab": {
      "provenance": []
    },
    "kernelspec": {
      "name": "python3",
      "display_name": "Python 3"
    },
    "language_info": {
      "name": "python"
    }
  },
  "cells": [
    {
      "cell_type": "code",
      "source": [
        "import pandas as pd\n",
        "\n",
        "url = \"https://fr.wikipedia.org/wiki/Liste_des_pays_par_population\"\n",
        "\n",
        "tables = pd.read_html(url)\n",
        "\n",
        "for i, table in enumerate(tables):\n",
        "    print(f\"Table {i} : {table.shape}\")\n",
        "\n",
        "df = tables[0]\n",
        "print(df.head())\n",
        "\n",
        "# Clearing the data\n",
        "\n",
        "df.columns = ['Rang', 'Pays', 'Population', 'Date']\n",
        "\n",
        "\n",
        "df.dropna(inplace=True)\n",
        "\n",
        "df.to_csv(\"donnees_pays_population.csv\", index=False)\n"
      ],
      "metadata": {
        "colab": {
          "base_uri": "https://localhost:8080/"
        },
        "id": "Xg2Xbh1ik3Yl",
        "outputId": "89fe34bd-6eb4-4c59-e942-af845d0a1cb0"
      },
      "execution_count": 4,
      "outputs": [
        {
          "output_type": "stream",
          "name": "stdout",
          "text": [
            "Table 0 : (238, 4)\n",
            "Table 1 : (14, 2)\n",
            "  Rang (2021) Pays ou territoire Population au 1er juillet 2021  \\\n",
            "0           -              Monde                  7 909 295 151   \n",
            "1           1           Chine[a]                  1 425 893 465   \n",
            "2           2               Inde                  1 407 563 842   \n",
            "3           3      États-Unis[b]                    336 997 624   \n",
            "4           4          Indonésie                    273 753 191   \n",
            "\n",
            "  Population projetée au 1er juillet 2024  \n",
            "0                           8 118 835 999  \n",
            "1                           1 425 178 782  \n",
            "2                           1 441 719 852  \n",
            "3                             341 814 420  \n",
            "4                             279 798 049  \n"
          ]
        }
      ]
    }
  ]
}